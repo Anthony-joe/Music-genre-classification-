{
 "cells": [
  {
   "cell_type": "code",
   "execution_count": 2,
   "metadata": {},
   "outputs": [],
   "source": [
    "import pandas as pd\n",
    "from sklearn.model_selection import train_test_split\n",
    "from sklearn.model_selection import KFold\n",
    "from sklearn.naive_bayes import GaussianNB\n",
    "from sklearn.linear_model import SGDClassifier, LogisticRegression\n",
    "from sklearn.neighbors import KNeighborsClassifier\n",
    "from sklearn.ensemble import RandomForestClassifier\n",
    "\n",
    "from sklearn.ensemble import GradientBoostingRegressor\n",
    "from sklearn.svm import SVC\n",
    "from sklearn import preprocessing\n",
    "from sklearn.metrics import accuracy_score\n",
    "from sklearn.ensemble import GradientBoostingRegressor\n",
    "from sklearn.model_selection import cross_val_score \n",
    "from sklearn.model_selection import cross_val_predict\n",
    "from sklearn.model_selection import cross_validate\n",
    "\n",
    "from sklearn.model_selection import GridSearchCV\n",
    "from sklearn.model_selection import RandomizedSearchCV \n",
    "from scipy.stats import randint\n",
    "\n",
    "from sklearn.model_selection import KFold \n",
    "from sklearn.model_selection import StratifiedKFold \n",
    "from sklearn.model_selection import ShuffleSplit\n",
    "from sklearn.model_selection import RepeatedKFold \n",
    "from sklearn.model_selection import RepeatedStratifiedKFold\n",
    "\n",
    "from sklearn.preprocessing import MinMaxScaler\n",
    "\n",
    "from sklearn.pipeline import Pipeline"
   ]
  },
  {
   "cell_type": "code",
   "execution_count": 3,
   "metadata": {},
   "outputs": [
    {
     "data": {
      "text/html": [
       "<div>\n",
       "<style scoped>\n",
       "    .dataframe tbody tr th:only-of-type {\n",
       "        vertical-align: middle;\n",
       "    }\n",
       "\n",
       "    .dataframe tbody tr th {\n",
       "        vertical-align: top;\n",
       "    }\n",
       "\n",
       "    .dataframe thead th {\n",
       "        text-align: right;\n",
       "    }\n",
       "</style>\n",
       "<table border=\"1\" class=\"dataframe\">\n",
       "  <thead>\n",
       "    <tr style=\"text-align: right;\">\n",
       "      <th></th>\n",
       "      <th>Unnamed: 0</th>\n",
       "      <th>filename</th>\n",
       "      <th>label</th>\n",
       "      <th>fsc_mean</th>\n",
       "      <th>fsc_var</th>\n",
       "      <th>fsb_mean</th>\n",
       "      <th>fsb_var</th>\n",
       "      <th>chroma_mean</th>\n",
       "      <th>chroma_var</th>\n",
       "      <th>rms_mean</th>\n",
       "      <th>...</th>\n",
       "      <th>mfcc_mean21</th>\n",
       "      <th>mfcc_mean22</th>\n",
       "      <th>mfcc_mean23</th>\n",
       "      <th>mfcc_mean24</th>\n",
       "      <th>mfcc_mean25</th>\n",
       "      <th>mfcc_mean26</th>\n",
       "      <th>mfcc_mean27</th>\n",
       "      <th>mfcc_mean28</th>\n",
       "      <th>mfcc_mean29</th>\n",
       "      <th>mfcc_mean30</th>\n",
       "    </tr>\n",
       "  </thead>\n",
       "  <tbody>\n",
       "    <tr>\n",
       "      <th>0</th>\n",
       "      <td>0</td>\n",
       "      <td>blues.000000.wav</td>\n",
       "      <td>blues</td>\n",
       "      <td>1775.747689</td>\n",
       "      <td>168218.236006</td>\n",
       "      <td>1976.307347</td>\n",
       "      <td>113785.200935</td>\n",
       "      <td>0.412760</td>\n",
       "      <td>0.124600</td>\n",
       "      <td>0.130077</td>\n",
       "      <td>...</td>\n",
       "      <td>-5.577494</td>\n",
       "      <td>-0.806646</td>\n",
       "      <td>-1.833445</td>\n",
       "      <td>-0.998209</td>\n",
       "      <td>2.528299</td>\n",
       "      <td>2.980887</td>\n",
       "      <td>-3.815330</td>\n",
       "      <td>-4.999353</td>\n",
       "      <td>-0.248520</td>\n",
       "      <td>1.828161</td>\n",
       "    </tr>\n",
       "    <tr>\n",
       "      <th>1</th>\n",
       "      <td>1</td>\n",
       "      <td>blues.000001.wav</td>\n",
       "      <td>blues</td>\n",
       "      <td>1782.417617</td>\n",
       "      <td>90849.067327</td>\n",
       "      <td>2003.793417</td>\n",
       "      <td>59525.192006</td>\n",
       "      <td>0.382884</td>\n",
       "      <td>0.126445</td>\n",
       "      <td>0.108474</td>\n",
       "      <td>...</td>\n",
       "      <td>-1.446377</td>\n",
       "      <td>0.119136</td>\n",
       "      <td>-4.970406</td>\n",
       "      <td>-2.800108</td>\n",
       "      <td>2.132017</td>\n",
       "      <td>1.239747</td>\n",
       "      <td>-7.189402</td>\n",
       "      <td>-6.137180</td>\n",
       "      <td>-1.379605</td>\n",
       "      <td>1.629855</td>\n",
       "    </tr>\n",
       "    <tr>\n",
       "      <th>2</th>\n",
       "      <td>2</td>\n",
       "      <td>blues.000002.wav</td>\n",
       "      <td>blues</td>\n",
       "      <td>1810.274575</td>\n",
       "      <td>90165.503975</td>\n",
       "      <td>2091.004353</td>\n",
       "      <td>77975.685006</td>\n",
       "      <td>0.312193</td>\n",
       "      <td>0.084679</td>\n",
       "      <td>0.137133</td>\n",
       "      <td>...</td>\n",
       "      <td>-6.599291</td>\n",
       "      <td>-2.585352</td>\n",
       "      <td>-4.982160</td>\n",
       "      <td>-5.021442</td>\n",
       "      <td>0.301683</td>\n",
       "      <td>-1.802398</td>\n",
       "      <td>-6.943006</td>\n",
       "      <td>-3.287982</td>\n",
       "      <td>3.770696</td>\n",
       "      <td>3.792954</td>\n",
       "    </tr>\n",
       "    <tr>\n",
       "      <th>3</th>\n",
       "      <td>3</td>\n",
       "      <td>blues.000003.wav</td>\n",
       "      <td>blues</td>\n",
       "      <td>1652.650516</td>\n",
       "      <td>103062.026806</td>\n",
       "      <td>1968.470394</td>\n",
       "      <td>68974.341182</td>\n",
       "      <td>0.331422</td>\n",
       "      <td>0.090406</td>\n",
       "      <td>0.137032</td>\n",
       "      <td>...</td>\n",
       "      <td>-2.986648</td>\n",
       "      <td>0.210857</td>\n",
       "      <td>-6.007319</td>\n",
       "      <td>-2.055582</td>\n",
       "      <td>-1.174838</td>\n",
       "      <td>0.938859</td>\n",
       "      <td>-8.474980</td>\n",
       "      <td>-1.422811</td>\n",
       "      <td>3.097076</td>\n",
       "      <td>4.958448</td>\n",
       "    </tr>\n",
       "    <tr>\n",
       "      <th>4</th>\n",
       "      <td>4</td>\n",
       "      <td>blues.000004.wav</td>\n",
       "      <td>blues</td>\n",
       "      <td>1821.400645</td>\n",
       "      <td>212730.331504</td>\n",
       "      <td>2037.861849</td>\n",
       "      <td>93774.984788</td>\n",
       "      <td>0.306959</td>\n",
       "      <td>0.088976</td>\n",
       "      <td>0.141036</td>\n",
       "      <td>...</td>\n",
       "      <td>-4.165588</td>\n",
       "      <td>-0.844202</td>\n",
       "      <td>-6.071796</td>\n",
       "      <td>-5.429046</td>\n",
       "      <td>-1.830063</td>\n",
       "      <td>-1.235257</td>\n",
       "      <td>-5.226347</td>\n",
       "      <td>-1.414961</td>\n",
       "      <td>2.900378</td>\n",
       "      <td>2.612174</td>\n",
       "    </tr>\n",
       "  </tbody>\n",
       "</table>\n",
       "<p>5 rows × 86 columns</p>\n",
       "</div>"
      ],
      "text/plain": [
       "   Unnamed: 0          filename  label     fsc_mean        fsc_var  \\\n",
       "0           0  blues.000000.wav  blues  1775.747689  168218.236006   \n",
       "1           1  blues.000001.wav  blues  1782.417617   90849.067327   \n",
       "2           2  blues.000002.wav  blues  1810.274575   90165.503975   \n",
       "3           3  blues.000003.wav  blues  1652.650516  103062.026806   \n",
       "4           4  blues.000004.wav  blues  1821.400645  212730.331504   \n",
       "\n",
       "      fsb_mean        fsb_var  chroma_mean  chroma_var  rms_mean  ...  \\\n",
       "0  1976.307347  113785.200935     0.412760    0.124600  0.130077  ...   \n",
       "1  2003.793417   59525.192006     0.382884    0.126445  0.108474  ...   \n",
       "2  2091.004353   77975.685006     0.312193    0.084679  0.137133  ...   \n",
       "3  1968.470394   68974.341182     0.331422    0.090406  0.137032  ...   \n",
       "4  2037.861849   93774.984788     0.306959    0.088976  0.141036  ...   \n",
       "\n",
       "   mfcc_mean21  mfcc_mean22  mfcc_mean23  mfcc_mean24  mfcc_mean25  \\\n",
       "0    -5.577494    -0.806646    -1.833445    -0.998209     2.528299   \n",
       "1    -1.446377     0.119136    -4.970406    -2.800108     2.132017   \n",
       "2    -6.599291    -2.585352    -4.982160    -5.021442     0.301683   \n",
       "3    -2.986648     0.210857    -6.007319    -2.055582    -1.174838   \n",
       "4    -4.165588    -0.844202    -6.071796    -5.429046    -1.830063   \n",
       "\n",
       "   mfcc_mean26  mfcc_mean27  mfcc_mean28  mfcc_mean29  mfcc_mean30  \n",
       "0     2.980887    -3.815330    -4.999353    -0.248520     1.828161  \n",
       "1     1.239747    -7.189402    -6.137180    -1.379605     1.629855  \n",
       "2    -1.802398    -6.943006    -3.287982     3.770696     3.792954  \n",
       "3     0.938859    -8.474980    -1.422811     3.097076     4.958448  \n",
       "4    -1.235257    -5.226347    -1.414961     2.900378     2.612174  \n",
       "\n",
       "[5 rows x 86 columns]"
      ]
     },
     "execution_count": 3,
     "metadata": {},
     "output_type": "execute_result"
    }
   ],
   "source": [
    "data_music=pd.read_excel('feature_extraction_3.xls')\n",
    "data_music.head()"
   ]
  },
  {
   "cell_type": "code",
   "execution_count": 4,
   "metadata": {},
   "outputs": [],
   "source": [
    "#splitting the label and features into 2 dataframes\n",
    "X = data_music.iloc[:,3:]\n",
    "Y = data_music['label']\n"
   ]
  },
  {
   "cell_type": "code",
   "execution_count": 5,
   "metadata": {},
   "outputs": [],
   "source": [
    "#splitting into train and tesy\n",
    "train_set, test_set, train_labels, test_labels = train_test_split(X, Y,test_size=0.2, random_state=8)\n"
   ]
  },
  {
   "cell_type": "code",
   "execution_count": 6,
   "metadata": {},
   "outputs": [],
   "source": [
    "# normalise the data \n",
    "min_max_scaler = MinMaxScaler()\n",
    "X_train_scaled = min_max_scaler.fit_transform(train_set)"
   ]
  },
  {
   "cell_type": "markdown",
   "metadata": {},
   "source": [
    "### Models"
   ]
  },
  {
   "cell_type": "markdown",
   "metadata": {},
   "source": [
    "##### Gaussian"
   ]
  },
  {
   "cell_type": "code",
   "execution_count": 13,
   "metadata": {},
   "outputs": [
    {
     "data": {
      "text/plain": [
       "0.522337453066333"
      ]
     },
     "execution_count": 13,
     "metadata": {},
     "output_type": "execute_result"
    }
   ],
   "source": [
    "nb = GaussianNB()\n",
    "NB_scores = cross_val_score(nb,X_train_scaled,train_labels, cv=10)\n",
    "NB_scores.mean()"
   ]
  },
  {
   "cell_type": "markdown",
   "metadata": {},
   "source": [
    "##### Stochastic Gradient Descent"
   ]
  },
  {
   "cell_type": "code",
   "execution_count": 14,
   "metadata": {},
   "outputs": [
    {
     "name": "stdout",
     "output_type": "stream",
     "text": [
      "score = 0.6895248748435544 <- parameters {'penalty': 'l1', 'max_iter': 3000, 'loss': 'log', 'alpha': 1e-05}\n",
      "score = 0.6586156132665832 <- parameters {'penalty': 'elasticnet', 'max_iter': 3000, 'loss': 'log', 'alpha': 1e-05}\n",
      "score = 0.6788868898623278 <- parameters {'penalty': 'l1', 'max_iter': 4000, 'loss': 'log', 'alpha': 1e-05}\n",
      "score = 0.6634928035043804 <- parameters {'penalty': 'elasticnet', 'max_iter': 4000, 'loss': 'log', 'alpha': 1e-05}\n",
      "score = 0.6827658010012516 <- parameters {'penalty': 'l1', 'max_iter': 5000, 'loss': 'log', 'alpha': 1e-05}\n",
      "score = 0.6624924906132665 <- parameters {'penalty': 'elasticnet', 'max_iter': 5000, 'loss': 'log', 'alpha': 1e-05}\n",
      "score = 0.6979081664580725 <- parameters {'penalty': 'l1', 'max_iter': 3000, 'loss': 'log', 'alpha': 0.0001}\n",
      "score = 0.6792614205256571 <- parameters {'penalty': 'elasticnet', 'max_iter': 3000, 'loss': 'log', 'alpha': 0.0001}\n",
      "score = 0.6940295682102627 <- parameters {'penalty': 'l1', 'max_iter': 4000, 'loss': 'log', 'alpha': 0.0001}\n",
      "score = 0.6795134543178973 <- parameters {'penalty': 'elasticnet', 'max_iter': 4000, 'loss': 'log', 'alpha': 0.0001}\n",
      "score = 0.6951545682102628 <- parameters {'penalty': 'l1', 'max_iter': 5000, 'loss': 'log', 'alpha': 0.0001}\n",
      "score = 0.6736315707133917 <- parameters {'penalty': 'elasticnet', 'max_iter': 5000, 'loss': 'log', 'alpha': 0.0001}\n",
      "score = 0.6250801001251565 <- parameters {'penalty': 'l1', 'max_iter': 3000, 'loss': 'log', 'alpha': 0.001}\n",
      "score = 0.6198241551939925 <- parameters {'penalty': 'elasticnet', 'max_iter': 3000, 'loss': 'log', 'alpha': 0.001}\n",
      "score = 0.6232038485607008 <- parameters {'penalty': 'l1', 'max_iter': 4000, 'loss': 'log', 'alpha': 0.001}\n",
      "score = 0.6252044743429286 <- parameters {'penalty': 'elasticnet', 'max_iter': 4000, 'loss': 'log', 'alpha': 0.001}\n",
      "score = 0.6269574468085106 <- parameters {'penalty': 'l1', 'max_iter': 5000, 'loss': 'log', 'alpha': 0.001}\n",
      "score = 0.6218249374217774 <- parameters {'penalty': 'elasticnet', 'max_iter': 5000, 'loss': 'log', 'alpha': 0.001}\n"
     ]
    }
   ],
   "source": [
    "# Stochastic Gradient Descent\n",
    "sgd = SGDClassifier()\n",
    "\n",
    "param_dist = {\n",
    "    'alpha': [1e-5,1e-4, 1e-3], # learning rate\n",
    "    'max_iter': [3000,4000,5000], # number of epochs\n",
    "    'loss': ['log'],\n",
    "    'penalty': ['l1', 'elasticnet']\n",
    "}\n",
    "\n",
    "rnd_search = RandomizedSearchCV(sgd, param_distributions=param_dist,\n",
    "                                n_iter=18, cv=10,n_jobs = -1)\n",
    "rnd_search.fit(X_train_scaled,train_labels)\n",
    "\n",
    "rand_cv_res = rnd_search.cv_results_\n",
    "for mean_score, params in zip(rand_cv_res[\"mean_test_score\"], rand_cv_res[\"params\"]):\n",
    "    print(f\"score = {mean_score} <- parameters {params}\")\n"
   ]
  },
  {
   "cell_type": "code",
   "execution_count": 16,
   "metadata": {},
   "outputs": [
    {
     "data": {
      "text/plain": [
       "SGDClassifier(loss='log', max_iter=3000, penalty='l1')"
      ]
     },
     "execution_count": 16,
     "metadata": {},
     "output_type": "execute_result"
    }
   ],
   "source": [
    "rnd_search.best_estimator_"
   ]
  },
  {
   "cell_type": "code",
   "execution_count": null,
   "metadata": {},
   "outputs": [],
   "source": []
  },
  {
   "cell_type": "markdown",
   "metadata": {},
   "source": [
    "##### KNN"
   ]
  },
  {
   "cell_type": "code",
   "execution_count": 7,
   "metadata": {},
   "outputs": [
    {
     "name": "stdout",
     "output_type": "stream",
     "text": [
      "score = 0.8179208385481852 <- parameters {'p': 2, 'n_neighbors': 15, 'leaf_size': 1}\n",
      "score = 0.8742345118898622 <- parameters {'p': 1, 'n_neighbors': 8, 'leaf_size': 15}\n",
      "score = 0.8544618272841051 <- parameters {'p': 2, 'n_neighbors': 8, 'leaf_size': 13}\n",
      "score = 0.7977728410513142 <- parameters {'p': 2, 'n_neighbors': 19, 'leaf_size': 13}\n",
      "score = 0.8813674906132667 <- parameters {'p': 1, 'n_neighbors': 6, 'leaf_size': 7}\n",
      "score = 0.8998876720901127 <- parameters {'p': 1, 'n_neighbors': 3, 'leaf_size': 7}\n",
      "score = 0.8454519712140176 <- parameters {'p': 2, 'n_neighbors': 9, 'leaf_size': 6}\n",
      "score = 0.7698681163954945 <- parameters {'p': 2, 'n_neighbors': 28, 'leaf_size': 27}\n",
      "score = 0.7656127972465582 <- parameters {'p': 2, 'n_neighbors': 29, 'leaf_size': 19}\n",
      "score = 0.8574638610763454 <- parameters {'p': 1, 'n_neighbors': 11, 'leaf_size': 8}\n",
      "score = 0.8764860763454319 <- parameters {'p': 2, 'n_neighbors': 4, 'leaf_size': 6}\n",
      "score = 0.8333130475594495 <- parameters {'p': 1, 'n_neighbors': 16, 'leaf_size': 15}\n",
      "score = 0.7977728410513142 <- parameters {'p': 2, 'n_neighbors': 19, 'leaf_size': 21}\n",
      "score = 0.8085336357947434 <- parameters {'p': 1, 'n_neighbors': 22, 'leaf_size': 24}\n",
      "score = 0.8179208385481852 <- parameters {'p': 2, 'n_neighbors': 15, 'leaf_size': 12}\n",
      "score = 0.8717310700876094 <- parameters {'p': 2, 'n_neighbors': 5, 'leaf_size': 12}\n",
      "score = 0.8052798811013767 <- parameters {'p': 1, 'n_neighbors': 23, 'leaf_size': 18}\n",
      "score = 0.8383186795994992 <- parameters {'p': 1, 'n_neighbors': 15, 'leaf_size': 1}\n",
      "score = 0.7977722152690865 <- parameters {'p': 1, 'n_neighbors': 25, 'leaf_size': 11}\n",
      "score = 0.8429491551939925 <- parameters {'p': 1, 'n_neighbors': 14, 'leaf_size': 7}\n",
      "score = 0.8429491551939925 <- parameters {'p': 1, 'n_neighbors': 14, 'leaf_size': 21}\n",
      "score = 0.8290577284105133 <- parameters {'p': 1, 'n_neighbors': 17, 'leaf_size': 14}\n",
      "score = 0.8289333541927408 <- parameters {'p': 2, 'n_neighbors': 13, 'leaf_size': 14}\n",
      "score = 0.7871372027534418 <- parameters {'p': 2, 'n_neighbors': 22, 'leaf_size': 16}\n",
      "score = 0.8783651439299124 <- parameters {'p': 2, 'n_neighbors': 2, 'leaf_size': 28}\n",
      "score = 0.8647226220275345 <- parameters {'p': 1, 'n_neighbors': 10, 'leaf_size': 7}\n",
      "score = 0.824927409261577 <- parameters {'p': 1, 'n_neighbors': 18, 'leaf_size': 16}\n",
      "score = 0.8381935231539425 <- parameters {'p': 1, 'n_neighbors': 15, 'leaf_size': 10}\n",
      "score = 0.7871372027534418 <- parameters {'p': 2, 'n_neighbors': 22, 'leaf_size': 27}\n",
      "score = 0.8085336357947434 <- parameters {'p': 1, 'n_neighbors': 22, 'leaf_size': 7}\n"
     ]
    }
   ],
   "source": [
    "\n",
    "knn = KNeighborsClassifier()\n",
    "\n",
    "param_dist = {'n_neighbors': list(range(1,30)),\n",
    "              'leaf_size' : list(range(1,30)),\n",
    "              'p': [1,2]\n",
    "            }\n",
    "\n",
    "rnd_search = RandomizedSearchCV(knn, param_distributions=param_dist,\n",
    "                                n_iter=30, cv=10,n_jobs = -1)\n",
    "rnd_search.fit(X_train_scaled,train_labels)\n",
    "\n",
    "rand_cv_res = rnd_search.cv_results_\n",
    "for mean_score, params in zip(rand_cv_res[\"mean_test_score\"], rand_cv_res[\"params\"]):\n",
    "    print(f\"score = {mean_score} <- parameters {params}\")"
   ]
  },
  {
   "cell_type": "code",
   "execution_count": 8,
   "metadata": {},
   "outputs": [
    {
     "data": {
      "text/plain": [
       "KNeighborsClassifier(leaf_size=7, n_neighbors=3, p=1)"
      ]
     },
     "execution_count": 8,
     "metadata": {},
     "output_type": "execute_result"
    }
   ],
   "source": [
    "rnd_search.best_estimator_"
   ]
  },
  {
   "cell_type": "markdown",
   "metadata": {},
   "source": [
    "##### Support Vector Machine"
   ]
  },
  {
   "cell_type": "code",
   "execution_count": 8,
   "metadata": {},
   "outputs": [
    {
     "name": "stdout",
     "output_type": "stream",
     "text": [
      "score = 0.7315730112388018 <- parameters {'kernel': 'linear', 'degree': 3, 'decision_function_shape': 'ovo', 'C': 1}\n",
      "score = 0.7400836811276165 <- parameters {'kernel': 'linear', 'degree': 2, 'decision_function_shape': 'ovo', 'C': 1000}\n",
      "score = 0.746715641664947 <- parameters {'kernel': 'linear', 'degree': 1, 'decision_function_shape': 'ovo', 'C': 100}\n",
      "score = 0.7512206160347356 <- parameters {'kernel': 'linear', 'degree': 6, 'decision_function_shape': 'ovo', 'C': 10}\n",
      "score = 0.7315730112388018 <- parameters {'kernel': 'linear', 'degree': 5, 'decision_function_shape': 'ovo', 'C': 1}\n",
      "score = 0.8734835567824678 <- parameters {'kernel': 'rbf', 'degree': 0, 'decision_function_shape': 'ovo', 'C': 100}\n",
      "score = 0.7315730112388018 <- parameters {'kernel': 'linear', 'degree': 2, 'decision_function_shape': 'ovo', 'C': 1}\n",
      "score = 0.7512206160347356 <- parameters {'kernel': 'linear', 'degree': 0, 'decision_function_shape': 'ovo', 'C': 10}\n",
      "score = 0.5911647659676199 <- parameters {'kernel': 'rbf', 'degree': 2, 'decision_function_shape': 'ovo', 'C': 0.1}\n",
      "score = 0.8436993132824901 <- parameters {'kernel': 'rbf', 'degree': 0, 'decision_function_shape': 'ovo', 'C': 10}\n",
      "score = 0.7549745577346029 <- parameters {'kernel': 'rbf', 'degree': 3, 'decision_function_shape': 'ovo', 'C': 1}\n",
      "score = 0.8734835567824678 <- parameters {'kernel': 'rbf', 'degree': 6, 'decision_function_shape': 'ovo', 'C': 100}\n",
      "score = 0.7549745577346029 <- parameters {'kernel': 'rbf', 'degree': 5, 'decision_function_shape': 'ovo', 'C': 1}\n",
      "score = 0.7400836811276165 <- parameters {'kernel': 'linear', 'degree': 3, 'decision_function_shape': 'ovo', 'C': 1000}\n",
      "score = 0.7549745577346029 <- parameters {'kernel': 'rbf', 'degree': 0, 'decision_function_shape': 'ovo', 'C': 1}\n"
     ]
    }
   ],
   "source": [
    "svm = SVC()\n",
    "\n",
    "param_dist = {'kernel' : ['linear', 'rbf'],\n",
    "              'C' : [0.1, 1, 10, 100, 1000],\n",
    "              'degree' : [0, 1, 2, 3, 4, 5, 6],\n",
    "              'decision_function_shape' :[\"ovo\"]\n",
    "                }\n",
    "\n",
    "rnd_search = RandomizedSearchCV(svm, param_distributions=param_dist,\n",
    "                                n_iter=15, cv=3,n_jobs = -1)\n",
    "rnd_search.fit(X_train_scaled,train_labels)\n",
    "\n",
    "rand_cv_res = rnd_search.cv_results_\n",
    "for mean_score, params in zip(rand_cv_res[\"mean_test_score\"], rand_cv_res[\"params\"]):\n",
    "    print(f\"score = {mean_score} <- parameters {params}\")"
   ]
  },
  {
   "cell_type": "code",
   "execution_count": 9,
   "metadata": {},
   "outputs": [
    {
     "data": {
      "text/plain": [
       "SVC(C=100, decision_function_shape='ovo', degree=0)"
      ]
     },
     "execution_count": 9,
     "metadata": {},
     "output_type": "execute_result"
    }
   ],
   "source": [
    "rnd_search.best_estimator_"
   ]
  },
  {
   "cell_type": "code",
   "execution_count": null,
   "metadata": {},
   "outputs": [],
   "source": [
    " LogisticRegression().get_params().keys()"
   ]
  },
  {
   "cell_type": "markdown",
   "metadata": {},
   "source": [
    "##### LogisticRegression"
   ]
  },
  {
   "cell_type": "code",
   "execution_count": 12,
   "metadata": {},
   "outputs": [
    {
     "name": "stderr",
     "output_type": "stream",
     "text": [
      "C:\\Users\\design-cj\\Anaconda3\\lib\\site-packages\\sklearn\\model_selection\\_search.py:278: UserWarning: The total space of parameters 20 is smaller than n_iter=100. Running 20 iterations. For exhaustive searches, use GridSearchCV.\n",
      "  warnings.warn(\n"
     ]
    },
    {
     "name": "stdout",
     "output_type": "stream",
     "text": [
      "score = 0.22713062292484 <- parameters {'solver': 'lbfgs', 'penalty': 'l2', 'C': 100}\n",
      "score = 0.5527471707531789 <- parameters {'solver': 'liblinear', 'penalty': 'l2', 'C': 100}\n",
      "score = 0.22550390232515657 <- parameters {'solver': 'sag', 'penalty': 'l2', 'C': 100}\n",
      "score = 0.20410482769664143 <- parameters {'solver': 'saga', 'penalty': 'l2', 'C': 100}\n",
      "score = 0.2277562485504656 <- parameters {'solver': 'lbfgs', 'penalty': 'l2', 'C': 10}\n",
      "score = 0.5492419287481248 <- parameters {'solver': 'liblinear', 'penalty': 'l2', 'C': 10}\n",
      "score = 0.22562902745028168 <- parameters {'solver': 'sag', 'penalty': 'l2', 'C': 10}\n",
      "score = 0.20423004679482337 <- parameters {'solver': 'saga', 'penalty': 'l2', 'C': 10}\n",
      "score = 0.22688037267458971 <- parameters {'solver': 'lbfgs', 'penalty': 'l2', 'C': 1.0}\n",
      "score = 0.5600042870508511 <- parameters {'solver': 'liblinear', 'penalty': 'l2', 'C': 1.0}\n",
      "score = 0.22562893347722487 <- parameters {'solver': 'sag', 'penalty': 'l2', 'C': 1.0}\n",
      "score = 0.20410487468316985 <- parameters {'solver': 'saga', 'penalty': 'l2', 'C': 1.0}\n",
      "score = 0.22575424654846357 <- parameters {'solver': 'lbfgs', 'penalty': 'l2', 'C': 0.1}\n",
      "score = 0.5387295857630067 <- parameters {'solver': 'liblinear', 'penalty': 'l2', 'C': 0.1}\n",
      "score = 0.22550390232515657 <- parameters {'solver': 'sag', 'penalty': 'l2', 'C': 0.1}\n",
      "score = 0.20410487468316985 <- parameters {'solver': 'saga', 'penalty': 'l2', 'C': 0.1}\n",
      "score = 0.22838182718956282 <- parameters {'solver': 'lbfgs', 'penalty': 'l2', 'C': 0.01}\n",
      "score = 0.544486704128086 <- parameters {'solver': 'liblinear', 'penalty': 'l2', 'C': 0.01}\n",
      "score = 0.22550394931168494 <- parameters {'solver': 'sag', 'penalty': 'l2', 'C': 0.01}\n",
      "score = 0.20423004679482337 <- parameters {'solver': 'saga', 'penalty': 'l2', 'C': 0.01}\n"
     ]
    }
   ],
   "source": [
    "\n",
    "lg = LogisticRegression()\n",
    "\n",
    "param_dist = {'solver' : ['lbfgs', 'liblinear', 'sag', 'saga'],\n",
    "              'penalty' : ['l2'],\n",
    "              'C' : [100, 10, 1.0, 0.1, 0.01]\n",
    "                }\n",
    "\n",
    "rnd_search = RandomizedSearchCV(lg, param_distributions=param_dist,\n",
    "                                n_iter=20, cv=3,n_jobs = -1)\n",
    "rnd_search.fit(X_train_scaled,train_labels)\n",
    "\n",
    "rand_cv_res = rnd_search.cv_results_\n",
    "for mean_score, params in zip(rand_cv_res[\"mean_test_score\"], rand_cv_res[\"params\"]):\n",
    "    print(f\"score = {mean_score} <- parameters {params}\")"
   ]
  },
  {
   "cell_type": "code",
   "execution_count": 11,
   "metadata": {},
   "outputs": [
    {
     "data": {
      "text/plain": [
       "LogisticRegression(solver='liblinear')"
      ]
     },
     "execution_count": 11,
     "metadata": {},
     "output_type": "execute_result"
    }
   ],
   "source": [
    "rnd_search.best_estimator_"
   ]
  },
  {
   "cell_type": "markdown",
   "metadata": {},
   "source": [
    "##### RandomForestClassifier"
   ]
  },
  {
   "cell_type": "code",
   "execution_count": 19,
   "metadata": {},
   "outputs": [
    {
     "name": "stdout",
     "output_type": "stream",
     "text": [
      "score = 0.8120381958930144 <- parameters {'n_estimators': 1600, 'min_samples_split': 2, 'min_samples_leaf': 2, 'max_features': 'auto', 'max_depth': 90}\n",
      "score = 0.818796205467044 <- parameters {'n_estimators': 1200, 'min_samples_split': 2, 'min_samples_leaf': 1, 'max_features': 'sqrt', 'max_depth': 40}\n",
      "score = 0.798773210006001 <- parameters {'n_estimators': 1200, 'min_samples_split': 10, 'min_samples_leaf': 1, 'max_features': 'auto', 'max_depth': 70}\n",
      "score = 0.8226752722685138 <- parameters {'n_estimators': 2000, 'min_samples_split': 2, 'min_samples_leaf': 1, 'max_features': 'auto', 'max_depth': 20}\n",
      "score = 0.8016511818451744 <- parameters {'n_estimators': 2000, 'min_samples_split': 10, 'min_samples_leaf': 1, 'max_features': 'auto', 'max_depth': 70}\n",
      "score = 0.7928915774347565 <- parameters {'n_estimators': 1000, 'min_samples_split': 2, 'min_samples_leaf': 4, 'max_features': 'sqrt', 'max_depth': 100}\n",
      "score = 0.7842563777795317 <- parameters {'n_estimators': 800, 'min_samples_split': 10, 'min_samples_leaf': 4, 'max_features': 'auto', 'max_depth': 100}\n",
      "score = 0.7892622910770595 <- parameters {'n_estimators': 1200, 'min_samples_split': 5, 'min_samples_leaf': 4, 'max_features': 'auto', 'max_depth': 90}\n",
      "score = 0.7830055023734623 <- parameters {'n_estimators': 200, 'min_samples_split': 5, 'min_samples_leaf': 4, 'max_features': 'sqrt', 'max_depth': 60}\n",
      "score = 0.7796263723047203 <- parameters {'n_estimators': 600, 'min_samples_split': 2, 'min_samples_leaf': 1, 'max_features': 'auto', 'max_depth': 10}\n"
     ]
    }
   ],
   "source": [
    "rf = RandomForestClassifier()\n",
    "\n",
    "\n",
    "\n",
    "param_dist= {'max_depth': [10, 20, 30, 40, 50, 60, 70, 80, 90, 100],\n",
    "            'max_features': ['auto', 'sqrt'],\n",
    "            'min_samples_leaf': [1, 2, 4],\n",
    "            'min_samples_split': [2, 5, 10],\n",
    "            'n_estimators': [200, 400, 600, 800, 1000, 1200, 1400, 1600, 1800, 2000]\n",
    "           }\n",
    "\n",
    "\n",
    "rnd_search = RandomizedSearchCV(rf, param_distributions=param_dist,\n",
    "                                n_iter=10, cv=2,n_jobs = -1)\n",
    "rnd_search.fit(X_train_scaled,train_labels)\n",
    "\n",
    "rand_cv_res = rnd_search.cv_results_\n",
    "for mean_score, params in zip(rand_cv_res[\"mean_test_score\"], rand_cv_res[\"params\"]):\n",
    "    print(f\"score = {mean_score} <- parameters {params}\")"
   ]
  },
  {
   "cell_type": "code",
   "execution_count": 21,
   "metadata": {},
   "outputs": [
    {
     "data": {
      "text/plain": [
       "RandomForestClassifier(max_depth=20, n_estimators=2000)"
      ]
     },
     "execution_count": 21,
     "metadata": {},
     "output_type": "execute_result"
    }
   ],
   "source": [
    "rnd_search.best_estimator_"
   ]
  },
  {
   "cell_type": "markdown",
   "metadata": {},
   "source": [
    "## pipeline "
   ]
  },
  {
   "cell_type": "code",
   "execution_count": 8,
   "metadata": {},
   "outputs": [],
   "source": [
    "MPP = Pipeline([\n",
    "        ('scaler', MinMaxScaler()),('KNN',KNeighborsClassifier(leaf_size=11, n_neighbors=1)),\n",
    "    ])"
   ]
  },
  {
   "cell_type": "markdown",
   "metadata": {},
   "source": [
    "## testing"
   ]
  },
  {
   "cell_type": "code",
   "execution_count": 10,
   "metadata": {},
   "outputs": [
    {
     "name": "stdout",
     "output_type": "stream",
     "text": [
      "Accuracy on Train  knn : 0.9991240145163309\n",
      "Accuracy knn : 0.8868868868868869\n"
     ]
    }
   ],
   "source": [
    "MPP.fit(train_set , train_labels)\n",
    "preds_train= MPP.predict(train_set)\n",
    "print('Accuracy on Train ', \"knn\", ':', accuracy_score(train_labels, preds_train))\n",
    "preds = MPP.predict(test_set)\n",
    "print('Accuracy', \"knn\", ':', accuracy_score(test_labels, preds))"
   ]
  },
  {
   "cell_type": "code",
   "execution_count": null,
   "metadata": {},
   "outputs": [],
   "source": []
  }
 ],
 "metadata": {
  "kernelspec": {
   "display_name": "Python 3",
   "language": "python",
   "name": "python3"
  },
  "language_info": {
   "codemirror_mode": {
    "name": "ipython",
    "version": 3
   },
   "file_extension": ".py",
   "mimetype": "text/x-python",
   "name": "python",
   "nbconvert_exporter": "python",
   "pygments_lexer": "ipython3",
   "version": "3.8.5"
  }
 },
 "nbformat": 4,
 "nbformat_minor": 4
}
